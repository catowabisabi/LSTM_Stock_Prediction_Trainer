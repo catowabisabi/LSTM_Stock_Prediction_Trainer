{
 "cells": [
  {
   "cell_type": "code",
   "execution_count": 1,
   "metadata": {},
   "outputs": [
    {
     "ename": "FileNotFoundError",
     "evalue": "Could not find module 'c:\\Program Files\\Python310\\lib\\site-packages\\mxnet\\libmxnet.dll' (or one of its dependencies). Try using the full path with constructor syntax.",
     "output_type": "error",
     "traceback": [
      "\u001b[1;31m---------------------------------------------------------------------------\u001b[0m",
      "\u001b[1;31mFileNotFoundError\u001b[0m                         Traceback (most recent call last)",
      "\u001b[1;32mc:\\Users\\enoma\\Desktop\\Coding\\Python_Projects\\Tensorflow_Projects\\LSTM_with_MACD\\research3.ipynb Cell 1\u001b[0m in \u001b[0;36m<cell line: 6>\u001b[1;34m()\u001b[0m\n\u001b[0;32m      <a href='vscode-notebook-cell:/c%3A/Users/enoma/Desktop/Coding/Python_Projects/Tensorflow_Projects/LSTM_with_MACD/research3.ipynb#ch0000020?line=2'>3</a>\u001b[0m \u001b[39mimport\u001b[39;00m \u001b[39mtime\u001b[39;00m\n\u001b[0;32m      <a href='vscode-notebook-cell:/c%3A/Users/enoma/Desktop/Coding/Python_Projects/Tensorflow_Projects/LSTM_with_MACD/research3.ipynb#ch0000020?line=3'>4</a>\u001b[0m \u001b[39mimport\u001b[39;00m \u001b[39mnumpy\u001b[39;00m \u001b[39mas\u001b[39;00m \u001b[39mnp\u001b[39;00m\n\u001b[1;32m----> <a href='vscode-notebook-cell:/c%3A/Users/enoma/Desktop/Coding/Python_Projects/Tensorflow_Projects/LSTM_with_MACD/research3.ipynb#ch0000020?line=5'>6</a>\u001b[0m \u001b[39mfrom\u001b[39;00m \u001b[39mmxnet\u001b[39;00m \u001b[39mimport\u001b[39;00m nd, autograd, gluon\n\u001b[0;32m      <a href='vscode-notebook-cell:/c%3A/Users/enoma/Desktop/Coding/Python_Projects/Tensorflow_Projects/LSTM_with_MACD/research3.ipynb#ch0000020?line=6'>7</a>\u001b[0m \u001b[39mfrom\u001b[39;00m \u001b[39mmxnet\u001b[39;00m\u001b[39m.\u001b[39;00m\u001b[39mgluon\u001b[39;00m \u001b[39mimport\u001b[39;00m nn, rnn\n\u001b[0;32m      <a href='vscode-notebook-cell:/c%3A/Users/enoma/Desktop/Coding/Python_Projects/Tensorflow_Projects/LSTM_with_MACD/research3.ipynb#ch0000020?line=7'>8</a>\u001b[0m \u001b[39mimport\u001b[39;00m \u001b[39mmxnet\u001b[39;00m \u001b[39mas\u001b[39;00m \u001b[39mmx\u001b[39;00m\n",
      "File \u001b[1;32mc:\\Program Files\\Python310\\lib\\site-packages\\mxnet\\__init__.py:25\u001b[0m, in \u001b[0;36m<module>\u001b[1;34m\u001b[0m\n\u001b[0;32m     21\u001b[0m \u001b[39m\"\"\"MXNet: a concise, fast and flexible framework for deep learning.\"\"\"\u001b[39;00m\n\u001b[0;32m     23\u001b[0m \u001b[39mimport\u001b[39;00m \u001b[39mnumpy\u001b[39;00m\n\u001b[1;32m---> 25\u001b[0m \u001b[39mfrom\u001b[39;00m \u001b[39m.\u001b[39;00m\u001b[39mcontext\u001b[39;00m \u001b[39mimport\u001b[39;00m Context, current_context, cpu, gpu, cpu_pinned\n\u001b[0;32m     26\u001b[0m \u001b[39mfrom\u001b[39;00m \u001b[39m.\u001b[39;00m \u001b[39mimport\u001b[39;00m engine, error\n\u001b[0;32m     27\u001b[0m \u001b[39mfrom\u001b[39;00m \u001b[39m.\u001b[39;00m\u001b[39mbase\u001b[39;00m \u001b[39mimport\u001b[39;00m MXNetError\n",
      "File \u001b[1;32mc:\\Program Files\\Python310\\lib\\site-packages\\mxnet\\context.py:23\u001b[0m, in \u001b[0;36m<module>\u001b[1;34m\u001b[0m\n\u001b[0;32m     21\u001b[0m \u001b[39mimport\u001b[39;00m \u001b[39mwarnings\u001b[39;00m\n\u001b[0;32m     22\u001b[0m \u001b[39mimport\u001b[39;00m \u001b[39mctypes\u001b[39;00m\n\u001b[1;32m---> 23\u001b[0m \u001b[39mfrom\u001b[39;00m \u001b[39m.\u001b[39;00m\u001b[39mbase\u001b[39;00m \u001b[39mimport\u001b[39;00m classproperty, with_metaclass, _MXClassPropertyMetaClass\n\u001b[0;32m     24\u001b[0m \u001b[39mfrom\u001b[39;00m \u001b[39m.\u001b[39;00m\u001b[39mbase\u001b[39;00m \u001b[39mimport\u001b[39;00m _LIB\n\u001b[0;32m     25\u001b[0m \u001b[39mfrom\u001b[39;00m \u001b[39m.\u001b[39;00m\u001b[39mbase\u001b[39;00m \u001b[39mimport\u001b[39;00m check_call\n",
      "File \u001b[1;32mc:\\Program Files\\Python310\\lib\\site-packages\\mxnet\\base.py:351\u001b[0m, in \u001b[0;36m<module>\u001b[1;34m\u001b[0m\n\u001b[0;32m    349\u001b[0m __version__ \u001b[39m=\u001b[39m libinfo\u001b[39m.\u001b[39m__version__\n\u001b[0;32m    350\u001b[0m \u001b[39m# library instance of mxnet\u001b[39;00m\n\u001b[1;32m--> 351\u001b[0m _LIB \u001b[39m=\u001b[39m _load_lib()\n\u001b[0;32m    353\u001b[0m \u001b[39m# type definitions\u001b[39;00m\n\u001b[0;32m    354\u001b[0m mx_int \u001b[39m=\u001b[39m ctypes\u001b[39m.\u001b[39mc_int\n",
      "File \u001b[1;32mc:\\Program Files\\Python310\\lib\\site-packages\\mxnet\\base.py:342\u001b[0m, in \u001b[0;36m_load_lib\u001b[1;34m()\u001b[0m\n\u001b[0;32m    340\u001b[0m \u001b[39m\"\"\"Load library by searching possible path.\"\"\"\u001b[39;00m\n\u001b[0;32m    341\u001b[0m lib_path \u001b[39m=\u001b[39m libinfo\u001b[39m.\u001b[39mfind_lib_path()\n\u001b[1;32m--> 342\u001b[0m lib \u001b[39m=\u001b[39m ctypes\u001b[39m.\u001b[39;49mCDLL(lib_path[\u001b[39m0\u001b[39;49m], ctypes\u001b[39m.\u001b[39;49mRTLD_LOCAL)\n\u001b[0;32m    343\u001b[0m \u001b[39m# DMatrix functions\u001b[39;00m\n\u001b[0;32m    344\u001b[0m lib\u001b[39m.\u001b[39mMXGetLastError\u001b[39m.\u001b[39mrestype \u001b[39m=\u001b[39m ctypes\u001b[39m.\u001b[39mc_char_p\n",
      "File \u001b[1;32mc:\\Program Files\\Python310\\lib\\ctypes\\__init__.py:374\u001b[0m, in \u001b[0;36mCDLL.__init__\u001b[1;34m(self, name, mode, handle, use_errno, use_last_error, winmode)\u001b[0m\n\u001b[0;32m    371\u001b[0m \u001b[39mself\u001b[39m\u001b[39m.\u001b[39m_FuncPtr \u001b[39m=\u001b[39m _FuncPtr\n\u001b[0;32m    373\u001b[0m \u001b[39mif\u001b[39;00m handle \u001b[39mis\u001b[39;00m \u001b[39mNone\u001b[39;00m:\n\u001b[1;32m--> 374\u001b[0m     \u001b[39mself\u001b[39m\u001b[39m.\u001b[39m_handle \u001b[39m=\u001b[39m _dlopen(\u001b[39mself\u001b[39;49m\u001b[39m.\u001b[39;49m_name, mode)\n\u001b[0;32m    375\u001b[0m \u001b[39melse\u001b[39;00m:\n\u001b[0;32m    376\u001b[0m     \u001b[39mself\u001b[39m\u001b[39m.\u001b[39m_handle \u001b[39m=\u001b[39m handle\n",
      "\u001b[1;31mFileNotFoundError\u001b[0m: Could not find module 'c:\\Program Files\\Python310\\lib\\site-packages\\mxnet\\libmxnet.dll' (or one of its dependencies). Try using the full path with constructor syntax."
     ]
    }
   ],
   "source": [
    "from utils import *\n",
    "\n",
    "import time\n",
    "import numpy as np\n",
    "\n",
    "from mxnet import nd, autograd, gluon\n",
    "from mxnet.gluon import nn, rnn\n",
    "import mxnet as mx\n",
    "import datetime\n",
    "import seaborn as sns\n",
    "\n",
    "import matplotlib.pyplot as plt\n",
    "%matplotlib inline\n",
    "from sklearn.decomposition import PCA\n",
    "\n",
    "import math\n",
    "\n",
    "from sklearn.preprocessing import MinMaxScaler\n",
    "from sklearn.metrics import mean_squared_error\n",
    "from sklearn.preprocessing import StandardScaler\n",
    "\n",
    "import xgboost as xgb\n",
    "from sklearn.metrics import accuracy_score"
   ]
  }
 ],
 "metadata": {
  "kernelspec": {
   "display_name": "Python 3.10.5 64-bit",
   "language": "python",
   "name": "python3"
  },
  "language_info": {
   "codemirror_mode": {
    "name": "ipython",
    "version": 3
   },
   "file_extension": ".py",
   "mimetype": "text/x-python",
   "name": "python",
   "nbconvert_exporter": "python",
   "pygments_lexer": "ipython3",
   "version": "3.10.5"
  },
  "orig_nbformat": 4,
  "vscode": {
   "interpreter": {
    "hash": "26de051ba29f2982a8de78e945f0abaf191376122a1563185a90213a26c5da77"
   }
  }
 },
 "nbformat": 4,
 "nbformat_minor": 2
}
